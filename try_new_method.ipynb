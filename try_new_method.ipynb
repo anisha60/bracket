{
 "cells": [
  {
   "cell_type": "code",
   "execution_count": 57,
   "metadata": {},
   "outputs": [],
   "source": [
    "import numpy as np\n",
    "\n",
    "dict = {'team1': [1000, 1, 0.6], \n",
    "        'team2': [500, 2, 0.4], \n",
    "        'team3': [700, 3, 0.3], \n",
    "        'team4': [800, 4, 0.7]\n",
    "        }"
   ]
  },
  {
   "cell_type": "code",
   "execution_count": 58,
   "metadata": {},
   "outputs": [
    {
     "name": "stdout",
     "output_type": "stream",
     "text": [
      "[[1000, 1000, 0, 0], [0, 0, 2100, 3200], [0, 0, 0, 0]]\n"
     ]
    }
   ],
   "source": [
    "rows, cols = (len(dict) - 1, len(dict))\n",
    "expected_points_matrix = [[0 for _ in range(cols)] for _ in range(rows)]\n",
    "possibilities_matrix = [[0 for _ in range(cols)] for _ in range(rows)]\n",
    "\n",
    "def createExpectedPointMatrix(dict, matrix):\n",
    "    team_no = 0\n",
    "    match_no = 0\n",
    "    round_no = 1\n",
    "\n",
    "    for key, val in dict.items():\n",
    "\n",
    "        if team_no != 0 and team_no % 2 == 0:\n",
    "            match_no += 1\n",
    "\n",
    "        x, y = match_no, team_no\n",
    "\n",
    "        team_seed = val[0]\n",
    "        team_win_prob = val[1]\n",
    "        \n",
    "        matrix[x][y] = team_win_prob * team_seed * 2**(round_no-1)\n",
    "        \n",
    "        team_no += 1\n",
    "\n",
    "    return matrix\n",
    "\n",
    "matrix = createExpectedPointMatrix(dict, expected_points_matrix)\n",
    "print(matrix)"
   ]
  },
  {
   "cell_type": "code",
   "execution_count": 59,
   "metadata": {},
   "outputs": [],
   "source": [
    "def calculateWinExpectation(rating1, rating2):\n",
    "    return 1 / (1 + 10**((rating2 - rating1) / 400))"
   ]
  },
  {
   "cell_type": "code",
   "execution_count": 60,
   "metadata": {},
   "outputs": [
    {
     "name": "stdout",
     "output_type": "stream",
     "text": [
      "slot1: {'team1': 1.0}  vs  {'team2': 1.0}  ->  {'team1': 0.9467597847979775, 'team2': 0.05324021520202244}\n",
      "slot1: {'team3': 1.0}  vs  {'team4': 1.0}  ->  {'team3': 0.35993500019711494, 'team4': 0.6400649998028851}\n",
      "[{'match_no': 1, 'round': 1, 'team_a': {'team1': 1.0}, 'team_b': {'team2': 1.0}, 'win_probabilities': {'team1': 0.9467597847979775, 'team2': 0.05324021520202244}, 'expected_scores': {}}, {'match_no': 2, 'round': 1, 'team_a': {'team3': 1.0}, 'team_b': {'team4': 1.0}, 'win_probabilities': {'team3': 0.35993500019711494, 'team4': 0.6400649998028851}, 'expected_scores': {}}]\n"
     ]
    }
   ],
   "source": [
    "# Assume we have a dictionary like this\n",
    "teams = {\"team1\": 1.0, \"team2\": 1.0, \"team3\": 1.0, \"team4\": 1.0}\n",
    "\n",
    "\n",
    "def calculateAdvancementExpectation(teams1, teams2, teams_dict):\n",
    "    win_probs_dict = {}\n",
    "\n",
    "    for team_a in teams1:\n",
    "        team_a_appearance_prob = teams1[team_a]\n",
    "        team_a_stats = teams_dict[team_a]\n",
    "        team_a_rating = team_a_stats[0]\n",
    "        team_a_win_prob = 0\n",
    "        for team_b in teams2:\n",
    "            team_b_appearance_prob = teams2[team_b]\n",
    "            team_b_stats = teams_dict[team_b]\n",
    "            team_b_rating = team_b_stats[0]\n",
    "            team_a_win_prob +=  team_b_appearance_prob * getExpectedScore(team_a_rating, team_b_rating)\n",
    "        win_probs_dict[team_a] = team_a_win_prob * team_a_appearance_prob\n",
    "    \n",
    "    for team_b in teams2:\n",
    "        team_b_appearance_prob = teams2[team_b]\n",
    "        team_b_stats = teams_dict[team_b]\n",
    "        team_b_rating = team_b_stats[0]\n",
    "        team_b_win_prob = 0\n",
    "        for team_a in teams1:\n",
    "            team_a_appearance_prob = teams1[team_a]\n",
    "            team_a_stats= teams_dict[team_a]\n",
    "            team_a_rating = team_a_stats[0]\n",
    "            team_b_win_prob +=  team_a_appearance_prob * getExpectedScore(team_b_rating, team_a_rating)\n",
    "        win_probs_dict[team_b] = team_b_win_prob * team_b_appearance_prob\n",
    "\n",
    "    return win_probs_dict\n",
    "\n",
    "# Create an empty list to hold the games\n",
    "games = []\n",
    "\n",
    "team_no = 0\n",
    "match_no = 1\n",
    "round_no = 1\n",
    "new_round = False\n",
    "\n",
    "for i in range(0, len(teams), 2):\n",
    "\n",
    "    # Get the team names from the keys of the teams dictionary\n",
    "    team_names = list(teams.keys())\n",
    "    \n",
    "    # Create a game dictionary\n",
    "    game = {\n",
    "        \"match_no\": match_no,\n",
    "        \"round\": round_no,\n",
    "        \"team_a\": {team_names[i]: teams[team_names[i]]},\n",
    "        \"team_b\": {team_names[i+1]: teams[team_names[i+1]]},\n",
    "        \"win_probabilities\": None,\n",
    "        \"expected_scores\": {}\n",
    "    }\n",
    "    \n",
    "    if match_no == len(teams) / 2:\n",
    "        round_no += 1\n",
    "    \n",
    "    match_no += 1\n",
    "\n",
    "    # Add the game to the games list\n",
    "    games.append(game)\n",
    "    advancement_preds = calculateAdvancementExpectation(game[\"team_a\"], game[\"team_b\"], dict)\n",
    "    print(f\"slot1: {game['team_a']}  vs  {game['team_b']}  ->  {advancement_preds}\")\n",
    "    game[\"win_probabilities\"] = advancement_preds\n",
    "    \n",
    "print(games)"
   ]
  },
  {
   "cell_type": "code",
   "execution_count": null,
   "metadata": {},
   "outputs": [],
   "source": []
  }
 ],
 "metadata": {
  "kernelspec": {
   "display_name": "base",
   "language": "python",
   "name": "python3"
  },
  "language_info": {
   "codemirror_mode": {
    "name": "ipython",
    "version": 3
   },
   "file_extension": ".py",
   "mimetype": "text/x-python",
   "name": "python",
   "nbconvert_exporter": "python",
   "pygments_lexer": "ipython3",
   "version": "3.9.13"
  }
 },
 "nbformat": 4,
 "nbformat_minor": 2
}
